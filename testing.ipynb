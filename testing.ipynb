{
 "cells": [
  {
   "cell_type": "code",
   "execution_count": 1,
   "metadata": {},
   "outputs": [
    {
     "name": "stdout",
     "output_type": "stream",
     "text": [
      "Conics.ipynb           ellipseDataAnal.ipynb  posData_1.csv\n",
      "ellSun.csv             ellpl1.csv             posData_2.csv\n",
      "ellipseData.csv        hyperBolicData.csv     testing.ipynb\n",
      "ellipseData1.csv       posData.csv\n"
     ]
    }
   ],
   "source": [
    "ls "
   ]
  },
  {
   "cell_type": "code",
   "execution_count": 2,
   "metadata": {},
   "outputs": [],
   "source": [
    "import numpy as np # type: ignore"
   ]
  },
  {
   "cell_type": "code",
   "execution_count": 7,
   "metadata": {},
   "outputs": [],
   "source": [
    "import pandas as pd # type: ignore"
   ]
  },
  {
   "cell_type": "code",
   "execution_count": 65,
   "metadata": {},
   "outputs": [],
   "source": [
    "raw = pd.read_csv('posData.csv')"
   ]
  },
  {
   "cell_type": "code",
   "execution_count": 9,
   "metadata": {},
   "outputs": [],
   "source": [
    "pd.set_option('display.max_columns', None)"
   ]
  },
  {
   "cell_type": "code",
   "execution_count": 10,
   "metadata": {},
   "outputs": [
    {
     "data": {
      "text/html": [
       "<div>\n",
       "<style scoped>\n",
       "    .dataframe tbody tr th:only-of-type {\n",
       "        vertical-align: middle;\n",
       "    }\n",
       "\n",
       "    .dataframe tbody tr th {\n",
       "        vertical-align: top;\n",
       "    }\n",
       "\n",
       "    .dataframe thead th {\n",
       "        text-align: right;\n",
       "    }\n",
       "</style>\n",
       "<table border=\"1\" class=\"dataframe\">\n",
       "  <thead>\n",
       "    <tr style=\"text-align: right;\">\n",
       "      <th></th>\n",
       "      <th>clk</th>\n",
       "      <th>RposX</th>\n",
       "      <th>RposY</th>\n",
       "      <th>RvelX</th>\n",
       "      <th>RvelY</th>\n",
       "      <th>RaccX</th>\n",
       "      <th>RaccY</th>\n",
       "      <th>RboostAccX</th>\n",
       "      <th>RboostAccY</th>\n",
       "      <th>P1PosX</th>\n",
       "      <th>P1PosY</th>\n",
       "      <th>P1velX</th>\n",
       "      <th>P1velY</th>\n",
       "      <th>P2PosX</th>\n",
       "      <th>P2PosY</th>\n",
       "      <th>P2velX</th>\n",
       "      <th>P2velY</th>\n",
       "      <th>P3PosX</th>\n",
       "      <th>P3PosY</th>\n",
       "      <th>P3velX</th>\n",
       "      <th>P3velY</th>\n",
       "      <th>P4PosX</th>\n",
       "      <th>P4PosY</th>\n",
       "      <th>P4velX</th>\n",
       "      <th>P4velY</th>\n",
       "    </tr>\n",
       "  </thead>\n",
       "  <tbody>\n",
       "    <tr>\n",
       "      <th>0</th>\n",
       "      <td>129000</td>\n",
       "      <td>100.013798</td>\n",
       "      <td>5.543432</td>\n",
       "      <td>-0.000003</td>\n",
       "      <td>0.000043</td>\n",
       "      <td>-4.530123e-09</td>\n",
       "      <td>8.318025e-10</td>\n",
       "      <td>-4.509075e-09</td>\n",
       "      <td>8.343968e-10</td>\n",
       "      <td>99.850750</td>\n",
       "      <td>5.461470</td>\n",
       "      <td>0</td>\n",
       "      <td>0.000042</td>\n",
       "      <td>-3.704288</td>\n",
       "      <td>199.965693</td>\n",
       "      <td>-0.00003</td>\n",
       "      <td>2.385131e-08</td>\n",
       "      <td>-149.905181</td>\n",
       "      <td>200.071079</td>\n",
       "      <td>-0.000022</td>\n",
       "      <td>-0.000016</td>\n",
       "      <td>0</td>\n",
       "      <td>0</td>\n",
       "      <td>0</td>\n",
       "      <td>0</td>\n",
       "    </tr>\n",
       "    <tr>\n",
       "      <th>1</th>\n",
       "      <td>129001</td>\n",
       "      <td>100.013795</td>\n",
       "      <td>5.543475</td>\n",
       "      <td>-0.000003</td>\n",
       "      <td>0.000043</td>\n",
       "      <td>-4.530125e-09</td>\n",
       "      <td>8.317921e-10</td>\n",
       "      <td>-4.509077e-09</td>\n",
       "      <td>8.343864e-10</td>\n",
       "      <td>99.850748</td>\n",
       "      <td>5.461513</td>\n",
       "      <td>0</td>\n",
       "      <td>0.000042</td>\n",
       "      <td>-3.704318</td>\n",
       "      <td>199.965692</td>\n",
       "      <td>-0.00003</td>\n",
       "      <td>2.385131e-08</td>\n",
       "      <td>-149.905203</td>\n",
       "      <td>200.071063</td>\n",
       "      <td>-0.000022</td>\n",
       "      <td>-0.000016</td>\n",
       "      <td>0</td>\n",
       "      <td>0</td>\n",
       "      <td>0</td>\n",
       "      <td>0</td>\n",
       "    </tr>\n",
       "    <tr>\n",
       "      <th>2</th>\n",
       "      <td>129002</td>\n",
       "      <td>100.013793</td>\n",
       "      <td>5.543518</td>\n",
       "      <td>-0.000003</td>\n",
       "      <td>0.000043</td>\n",
       "      <td>-4.530127e-09</td>\n",
       "      <td>8.317818e-10</td>\n",
       "      <td>-4.509079e-09</td>\n",
       "      <td>8.343761e-10</td>\n",
       "      <td>99.850746</td>\n",
       "      <td>5.461555</td>\n",
       "      <td>0</td>\n",
       "      <td>0.000042</td>\n",
       "      <td>-3.704348</td>\n",
       "      <td>199.965692</td>\n",
       "      <td>-0.00003</td>\n",
       "      <td>2.385131e-08</td>\n",
       "      <td>-149.905224</td>\n",
       "      <td>200.071047</td>\n",
       "      <td>-0.000022</td>\n",
       "      <td>-0.000016</td>\n",
       "      <td>0</td>\n",
       "      <td>0</td>\n",
       "      <td>0</td>\n",
       "      <td>0</td>\n",
       "    </tr>\n",
       "    <tr>\n",
       "      <th>3</th>\n",
       "      <td>129003</td>\n",
       "      <td>100.013790</td>\n",
       "      <td>5.543561</td>\n",
       "      <td>-0.000003</td>\n",
       "      <td>0.000043</td>\n",
       "      <td>-4.530129e-09</td>\n",
       "      <td>8.317714e-10</td>\n",
       "      <td>-4.509080e-09</td>\n",
       "      <td>8.343658e-10</td>\n",
       "      <td>99.850743</td>\n",
       "      <td>5.461597</td>\n",
       "      <td>0</td>\n",
       "      <td>0.000042</td>\n",
       "      <td>-3.704378</td>\n",
       "      <td>199.965691</td>\n",
       "      <td>-0.00003</td>\n",
       "      <td>2.385131e-08</td>\n",
       "      <td>-149.905246</td>\n",
       "      <td>200.071031</td>\n",
       "      <td>-0.000022</td>\n",
       "      <td>-0.000016</td>\n",
       "      <td>0</td>\n",
       "      <td>0</td>\n",
       "      <td>0</td>\n",
       "      <td>0</td>\n",
       "    </tr>\n",
       "    <tr>\n",
       "      <th>4</th>\n",
       "      <td>129004</td>\n",
       "      <td>100.013787</td>\n",
       "      <td>5.543603</td>\n",
       "      <td>-0.000003</td>\n",
       "      <td>0.000043</td>\n",
       "      <td>-4.530130e-09</td>\n",
       "      <td>8.317611e-10</td>\n",
       "      <td>-4.509082e-09</td>\n",
       "      <td>8.343555e-10</td>\n",
       "      <td>99.850741</td>\n",
       "      <td>5.461639</td>\n",
       "      <td>0</td>\n",
       "      <td>0.000042</td>\n",
       "      <td>-3.704408</td>\n",
       "      <td>199.965690</td>\n",
       "      <td>-0.00003</td>\n",
       "      <td>2.385131e-08</td>\n",
       "      <td>-149.905267</td>\n",
       "      <td>200.071015</td>\n",
       "      <td>-0.000022</td>\n",
       "      <td>-0.000016</td>\n",
       "      <td>0</td>\n",
       "      <td>0</td>\n",
       "      <td>0</td>\n",
       "      <td>0</td>\n",
       "    </tr>\n",
       "  </tbody>\n",
       "</table>\n",
       "</div>"
      ],
      "text/plain": [
       "      clk       RposX     RposY     RvelX     RvelY         RaccX  \\\n",
       "0  129000  100.013798  5.543432 -0.000003  0.000043 -4.530123e-09   \n",
       "1  129001  100.013795  5.543475 -0.000003  0.000043 -4.530125e-09   \n",
       "2  129002  100.013793  5.543518 -0.000003  0.000043 -4.530127e-09   \n",
       "3  129003  100.013790  5.543561 -0.000003  0.000043 -4.530129e-09   \n",
       "4  129004  100.013787  5.543603 -0.000003  0.000043 -4.530130e-09   \n",
       "\n",
       "          RaccY    RboostAccX    RboostAccY     P1PosX    P1PosY  P1velX  \\\n",
       "0  8.318025e-10 -4.509075e-09  8.343968e-10  99.850750  5.461470       0   \n",
       "1  8.317921e-10 -4.509077e-09  8.343864e-10  99.850748  5.461513       0   \n",
       "2  8.317818e-10 -4.509079e-09  8.343761e-10  99.850746  5.461555       0   \n",
       "3  8.317714e-10 -4.509080e-09  8.343658e-10  99.850743  5.461597       0   \n",
       "4  8.317611e-10 -4.509082e-09  8.343555e-10  99.850741  5.461639       0   \n",
       "\n",
       "     P1velY    P2PosX      P2PosY   P2velX        P2velY      P3PosX  \\\n",
       "0  0.000042 -3.704288  199.965693 -0.00003  2.385131e-08 -149.905181   \n",
       "1  0.000042 -3.704318  199.965692 -0.00003  2.385131e-08 -149.905203   \n",
       "2  0.000042 -3.704348  199.965692 -0.00003  2.385131e-08 -149.905224   \n",
       "3  0.000042 -3.704378  199.965691 -0.00003  2.385131e-08 -149.905246   \n",
       "4  0.000042 -3.704408  199.965690 -0.00003  2.385131e-08 -149.905267   \n",
       "\n",
       "       P3PosY    P3velX    P3velY  P4PosX  P4PosY  P4velX  P4velY  \n",
       "0  200.071079 -0.000022 -0.000016       0       0       0       0  \n",
       "1  200.071063 -0.000022 -0.000016       0       0       0       0  \n",
       "2  200.071047 -0.000022 -0.000016       0       0       0       0  \n",
       "3  200.071031 -0.000022 -0.000016       0       0       0       0  \n",
       "4  200.071015 -0.000022 -0.000016       0       0       0       0  "
      ]
     },
     "execution_count": 10,
     "metadata": {},
     "output_type": "execute_result"
    }
   ],
   "source": [
    "raw.head()"
   ]
  },
  {
   "cell_type": "code",
   "execution_count": 66,
   "metadata": {},
   "outputs": [],
   "source": [
    "## angle between relative position and booster acc\n",
    "s1 = pd.Series([(raw.RposX - raw.P1PosX),(raw.RposY - raw.P1PosY)])\n",
    "s2 = pd.Series([(raw.RboostAccX),(raw.RboostAccY)])\n",
    "dot_product = s1.dot(s2)\n",
    "norm_s1 = np.linalg.norm(s1)\n",
    "norm_s2 = np.linalg.norm(s2)\n",
    "cos_angle = dot_product / (norm_s1 * norm_s2)\n",
    "angle_rad = np.arccos(cos_angle)"
   ]
  },
  {
   "cell_type": "code",
   "execution_count": 67,
   "metadata": {},
   "outputs": [
    {
     "data": {
      "text/plain": [
       "0        1.615928\n",
       "1        1.615925\n",
       "2        1.615922\n",
       "3        1.615919\n",
       "4        1.615916\n",
       "           ...   \n",
       "19995         NaN\n",
       "19996         NaN\n",
       "19997         NaN\n",
       "19998         NaN\n",
       "19999         NaN\n",
       "Length: 20000, dtype: float64"
      ]
     },
     "execution_count": 67,
     "metadata": {},
     "output_type": "execute_result"
    }
   ],
   "source": [
    "angle_rad"
   ]
  },
  {
   "cell_type": "code",
   "execution_count": 59,
   "metadata": {},
   "outputs": [
    {
     "data": {
      "text/plain": [
       "0       -0.239276\n",
       "1       -0.239277\n",
       "2       -0.239278\n",
       "3       -0.239279\n",
       "4       -0.239279\n",
       "           ...   \n",
       "19995         NaN\n",
       "19996         NaN\n",
       "19997         NaN\n",
       "19998         NaN\n",
       "19999         NaN\n",
       "Length: 20000, dtype: float64"
      ]
     },
     "execution_count": 59,
     "metadata": {},
     "output_type": "execute_result"
    }
   ],
   "source": [
    "cos_angle"
   ]
  },
  {
   "cell_type": "code",
   "execution_count": 71,
   "metadata": {},
   "outputs": [
    {
     "data": {
      "image/png": "[encoded data removed]",
      "text/plain": [
       "<Figure size 1000x600 with 1 Axes>"
      ]
     },
     "metadata": {},
     "output_type": "display_data"
    }
   ],
   "source": [
    "import matplotlib.pyplot as plt\n",
    "\n",
    "# Extract the 'RposX' and 'RposY' columns from the 'raw' table\n",
    "rposx = raw['RposX'] -  raw['P1PosX']\n",
    "rposy = raw['RposY'] - raw['P1PosY']\n",
    "\n",
    "# Plot the data\n",
    "plt.figure(figsize=(10, 6))\n",
    "plt.scatter(rposx, rposy, s=10, c='blue')\n",
    "plt.xlabel('RposX')\n",
    "plt.ylabel('RposY')\n",
    "plt.title('Scatter Plot of RposX and RposY')\n",
    "plt.show()"
   ]
  },
  {
   "cell_type": "code",
   "execution_count": null,
   "metadata": {},
   "outputs": [],
   "source": []
  }
 ],
 "metadata": {
  "kernelspec": {
   "display_name": "base",
   "language": "python",
   "name": "python3"
  },
  "language_info": {
   "codemirror_mode": {
    "name": "ipython",
    "version": 3
   },
   "file_extension": ".py",
   "mimetype": "text/x-python",
   "name": "python",
   "nbconvert_exporter": "python",
   "pygments_lexer": "ipython3",
   "version": "3.11.7"
  }
 },
 "nbformat": 4,
 "nbformat_minor": 2
}

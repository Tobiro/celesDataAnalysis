{
 "cells": [
  {
   "cell_type": "code",
   "execution_count": 2,
   "metadata": {},
   "outputs": [
    {
     "data": {
      "text/plain": [
       "'c:\\\\Users\\\\Meeth\\\\CelesDataAnal'"
      ]
     },
     "execution_count": 2,
     "metadata": {},
     "output_type": "execute_result"
    }
   ],
   "source": [
    "pwd"
   ]
  },
  {
   "cell_type": "code",
   "execution_count": 22,
   "metadata": {},
   "outputs": [],
   "source": [
    "import numpy as np\n",
    "import pandas as pd\n",
    "import matplotlib.pyplot as plt\n",
    "import math\n",
    "from scipy import optimize"
   ]
  },
  {
   "cell_type": "markdown",
   "metadata": {},
   "source": [
    "START"
   ]
  },
  {
   "cell_type": "code",
   "execution_count": 4,
   "metadata": {},
   "outputs": [],
   "source": [
    "# Config Data\n",
    "G = 1.9935608097491742e-38"
   ]
  },
  {
   "cell_type": "markdown",
   "metadata": {},
   "source": [
    "ELLIPSE SETUP"
   ]
  },
  {
   "cell_type": "code",
   "execution_count": 409,
   "metadata": {},
   "outputs": [],
   "source": [
    "# given phase input, return conic parameters\n",
    "def retConicParam(op):\n",
    "    mu = op['M'] * G\n",
    "    r = np.copy(op['r'])\n",
    "    v = np.copy(op['v'])\n",
    "    vlen = np.linalg.norm(v)\n",
    "    a = 1/(2/np.linalg.norm(r) - math.pow(vlen,2)/mu)\n",
    "    print(a, np.linalg.norm(r))\n",
    "    TP = 2*math.pi*math.sqrt(math.pow(a,3)/mu)\n",
    "    h = np.linalg.norm(np.cross(r,v))\n",
    "    ecc= math.sqrt(1 - h*h/(a*mu))\n",
    "    n = math.sqrt(mu/math.pow(a,3))\n",
    "    E = math.acos((a - np.linalg.norm(r))/(a*ecc))\n",
    "    theta = 2 * math.atan(math.sqrt((1+ecc)/(1-ecc)) * math.tan(E/2))\n",
    "    axisThet = math.atan2(r[1],r[0])\n",
    "    deltaThet = axisThet - theta\n",
    "    M = E - ecc*math.sin(E)\n",
    "    return {'a':a, 'ecc':ecc, 'TP':TP, 'n': n, 'E': E, 'M': M, 'mu': mu, 'theta': theta, 'axisThet': axisThet, 'deltaThet': deltaThet}"
   ]
  },
  {
   "cell_type": "markdown",
   "metadata": {},
   "source": [
    "Newton Optimiser Step"
   ]
  },
  {
   "cell_type": "code",
   "execution_count": 410,
   "metadata": {},
   "outputs": [],
   "source": [
    "def f(M, ecc):\n",
    "    return lambda x: x - ecc * math.sin(x) - M\n",
    "\n",
    "def fPrime(ecc):\n",
    "    return lambda x: 1 - ecc * math.cos(x)"
   ]
  },
  {
   "cell_type": "code",
   "execution_count": 411,
   "metadata": {},
   "outputs": [],
   "source": [
    "def conicPts(n, ecc, M,E, step):\n",
    "    M1 = M + n*step\n",
    "    E1 = optimize.newton(f(M1, ecc), E, fPrime(ecc))\n",
    "    return E1"
   ]
  },
  {
   "cell_type": "code",
   "execution_count": 412,
   "metadata": {},
   "outputs": [],
   "source": [
    "# return position of object given conic parameters and iterated vaue of E\n",
    "def retPos(a, ecc, E, mu, deltaThet):\n",
    "    r = a * (1 - ecc * math.cos(E))\n",
    "    theta = 2*math.atan(math.sqrt((1+ecc)/(1-ecc)) * math.tan(E/2))\n",
    "    return np.array([r*math.cos(theta+deltaThet), r*math.sin(theta+deltaThet)])"
   ]
  },
  {
   "cell_type": "code",
   "execution_count": 421,
   "metadata": {},
   "outputs": [],
   "source": [
    "# returns all the points broken into N pieces\n",
    "def getPts(parameters, r, N):\n",
    "    step = parameters['TP']/N\n",
    "    n = parameters['n']\n",
    "    ecc = parameters['ecc']\n",
    "    M = parameters['M']\n",
    "    E = parameters['E']\n",
    "    a = parameters['a']\n",
    "    deltaThet = parameters['deltaThet']\n",
    "    pnt = [np.copy(r)]\n",
    "    print(pnt)\n",
    "    mu = parameters['mu']\n",
    "    for i in range(math.floor(N)):\n",
    "        # M1 = M + n*step\n",
    "        E1 = conicPts(n, ecc, M, E, step)\n",
    "        r1 = retPos(a, ecc, E1, mu, deltaThet)\n",
    "        E = E1\n",
    "        M = E - ecc*math.sin(E)\n",
    "        pnt = np.append(pnt, [np.copy(r1)], axis=0)\n",
    "    return pnt\n",
    "        \n",
    "\n",
    "    "
   ]
  },
  {
   "cell_type": "markdown",
   "metadata": {},
   "source": [
    "Execution"
   ]
  },
  {
   "cell_type": "code",
   "execution_count": 422,
   "metadata": {},
   "outputs": [
    {
     "name": "stdout",
     "output_type": "stream",
     "text": [
      "141.4213562373095 60.35836706422978\n"
     ]
    },
    {
     "data": {
      "text/plain": [
       "{'a': 141.4213562373095,\n",
       " 'ecc': 0.6,\n",
       " 'TP': 24946887.38886774,\n",
       " 'n': 2.5186249527800355e-07,\n",
       " 'E': 0.30000000000000016,\n",
       " 'M': 0.12268787600319633,\n",
       " 'mu': 1.7942047287742567e-07,\n",
       " 'theta': 0.5870769191406715,\n",
       " 'axisThet': 1.3724750825381193,\n",
       " 'deltaThet': 0.7853981633974478}"
      ]
     },
     "execution_count": 422,
     "metadata": {},
     "output_type": "execute_result"
    }
   ],
   "source": [
    "op = {'M': 9e30, 'r': np.array([11.89203237965344,59.17526544546777]), 'v': np.array([-0.00006254039044674874, 0.000027661858645905403])}\n",
    "parameters = retConicParam(op)\n",
    "parameters"
   ]
  },
  {
   "cell_type": "code",
   "execution_count": 423,
   "metadata": {},
   "outputs": [
    {
     "name": "stdout",
     "output_type": "stream",
     "text": [
      "[array([11.89203238, 59.17526545])]\n"
     ]
    }
   ],
   "source": [
    "fpnts = getPts(parameters, op['r'], 5000)"
   ]
  },
  {
   "cell_type": "code",
   "execution_count": 426,
   "metadata": {},
   "outputs": [
    {
     "data": {
      "text/plain": [
       "(-200.8687303668286, 80.86869846389305, -200.86872450090658, 80.86873220937906)"
      ]
     },
     "execution_count": 426,
     "metadata": {},
     "output_type": "execute_result"
    },
    {
     "data": {
      "image/png": "[encoded data removed]",
      "text/plain": [
       "<Figure size 640x480 with 1 Axes>"
      ]
     },
     "metadata": {},
     "output_type": "display_data"
    }
   ],
   "source": [
    "df = pd.DataFrame(columns=['x', 'y'])\n",
    "df['x'] = fpnts[:, 0]\n",
    "df['y'] = fpnts[:, 1]\n",
    "plt.plot(df['x'], df['y']) \n",
    "plt.plot(0,0, 'ro')\n",
    "plt.grid()\n",
    "plt.axis('equal')"
   ]
  },
  {
   "cell_type": "markdown",
   "metadata": {},
   "source": [
    "HYPOERBOLIC SETUP"
   ]
  },
  {
   "cell_type": "code",
   "execution_count": 269,
   "metadata": {},
   "outputs": [],
   "source": [
    "# given phase input, return conic parameters\n",
    "def retConicParamH(op):\n",
    "    mu = op['M'] * G\n",
    "    r = np.copy(op['r'])\n",
    "    v = np.copy(op['v'])\n",
    "    vlen = np.linalg.norm(v)\n",
    "    a = 1/(2/np.linalg.norm(r) - math.pow(vlen,2)/mu)\n",
    "    n = math.sqrt(mu/math.pow(-a,3))\n",
    "    h = np.linalg.norm(np.cross(r,v))\n",
    "    ecc= math.sqrt(1 - h*h/(a*mu))\n",
    "    F = math.acosh((1 - np.linalg.norm(r)/a)/ecc) \n",
    "    thet = 2*math.atan(math.sqrt((1+ecc)/(ecc-1)) * math.tanh(F/2))\n",
    "    axisThet = math.acos(np.dot(r, [1,0])/np.linalg.norm(r))\n",
    "    deltaThet = axisThet - thet\n",
    "    M = ecc*math.sinh(F) - F \n",
    "    return {'a':a, 'ecc':ecc, 'n':n, 'F': F, 'M': M, 'mu': mu, 'h':h, 'thet':thet, 'axisThet':axisThet, 'deltaThet':deltaThet}"
   ]
  },
  {
   "cell_type": "code",
   "execution_count": 270,
   "metadata": {},
   "outputs": [],
   "source": [
    "def fH(M, ecc):\n",
    "    return lambda x: ecc * math.sinh(x) - x - M\n",
    "\n",
    "def fHPrime(ecc):\n",
    "    return lambda x: ecc * math.cosh(x) - 1"
   ]
  },
  {
   "cell_type": "code",
   "execution_count": 271,
   "metadata": {},
   "outputs": [],
   "source": [
    "def conicPtsH(n, ecc, M,F, step):\n",
    "    M1 = M + n*step\n",
    "    F1 = optimize.newton(fH(M1, ecc), F, fHPrime(ecc))\n",
    "    return F1"
   ]
  },
  {
   "cell_type": "code",
   "execution_count": 272,
   "metadata": {},
   "outputs": [],
   "source": [
    "# return position of object given conic parameters and iterated vaue of E\n",
    "def retPosH(a, ecc, F, mu, delThet):\n",
    "    r = -1 * a * ( ecc * math.cosh(F) - 1)\n",
    "    theta = 2*math.atan(math.sqrt((1+ecc)/(ecc - 1)) * math.tanh(F/2))\n",
    "    # rotation_matrix = np.array([[np.cos(delThet), -np.sin(delThet)],\n",
    "    #                         [np.sin(delThet), np.cos(delThet)]])\n",
    "    # return np.dot(rotation_matrix, np.array([r*math.cos(theta), r*math.sin(theta)]))\n",
    "    return np.array([r*math.cos(theta+delThet), r*math.sin(theta+delThet)])"
   ]
  },
  {
   "cell_type": "code",
   "execution_count": 442,
   "metadata": {},
   "outputs": [],
   "source": [
    "# returns all the points broken into N pieces\n",
    "def getPtsH(parameters, r, N):\n",
    "    n = parameters['n']\n",
    "    step = math.pi*2/(n*N) \n",
    "    ecc = parameters['ecc']\n",
    "    M = parameters['M']\n",
    "    F = parameters['F']\n",
    "    a = parameters['a']\n",
    "    delThet = parameters['deltaThet']\n",
    "    pnt = [np.copy(r)]\n",
    "    # print(pnt)\n",
    "    mu = parameters['mu']\n",
    "    # print(step)\n",
    "    for i in range(math.floor(N/2)):\n",
    "        F1 = conicPtsH(n, ecc, M, F, step)\n",
    "        r1 = retPosH(a, ecc, F1, mu, delThet)\n",
    "        F = F1\n",
    "        M = ecc*math.sinh(F) - F\n",
    "        pnt = np.append(pnt, [np.copy(r1)], axis=0)\n",
    "    return pnt\n",
    "\n",
    "def getPtsHRev(parameters, r, N, pnt):\n",
    "    n = parameters['n']\n",
    "    step = math.pi*2/(n*N) \n",
    "    ecc = parameters['ecc']\n",
    "    M = parameters['M']\n",
    "    F = parameters['F']\n",
    "    a = parameters['a']\n",
    "    delThet = parameters['deltaThet']\n",
    "    pnt = pnt\n",
    "    # print(pnt)\n",
    "    mu = parameters['mu']\n",
    "    # print(step)\n",
    "    for i in range(math.floor(N/2)):\n",
    "        F1 = conicPtsH(n, ecc, M, F, (-1)*step)\n",
    "        r1 = retPosH(a, ecc, F1, mu, delThet)\n",
    "        F = F1\n",
    "        M = ecc*math.sinh(F) - F\n",
    "        pnt = np.append(pnt, [np.copy(r1)], axis=0)\n",
    "    return pnt"
   ]
  },
  {
   "cell_type": "code",
   "execution_count": 467,
   "metadata": {},
   "outputs": [
    {
     "data": {
      "text/plain": [
       "{'a': -754.5649816865642,\n",
       " 'ecc': 1.065141421242492,\n",
       " 'n': 2.0435771074563306e-08,\n",
       " 'F': 0.16678783645375622,\n",
       " 'M': 0.011689605336167253,\n",
       " 'mu': 1.7942047287742567e-07,\n",
       " 'h': 0.004267640572041126,\n",
       " 'thet': 0.8762028687107555,\n",
       " 'axisThet': 1.3724750825381193,\n",
       " 'deltaThet': 0.49627221382736386}"
      ]
     },
     "execution_count": 467,
     "metadata": {},
     "output_type": "execute_result"
    }
   ],
   "source": [
    "# opH = {'M': 9e30, 'r': np.array([140,0]), 'v': np.array([0, 0.000051])}\n",
    "opH = {'M': 9e30,  'r': np.array([11.89203237965344,59.17526544546777]), 'v': np.array([-0.00006254039044674874, 0.000047661858645905403])}\n",
    "parametersH = retConicParamH(opH)\n",
    "parametersH"
   ]
  },
  {
   "cell_type": "code",
   "execution_count": 468,
   "metadata": {},
   "outputs": [],
   "source": [
    "fpntsH = getPtsH(parametersH, opH['r'], 5000)\n",
    "fpntsH = getPtsHRev(parametersH, opH['r'], 5000, fpntsH)"
   ]
  },
  {
   "cell_type": "code",
   "execution_count": 471,
   "metadata": {},
   "outputs": [
    {
     "data": {
      "text/plain": [
       "(-500.0, 200.0)"
      ]
     },
     "execution_count": 471,
     "metadata": {},
     "output_type": "execute_result"
    },
    {
     "data": {
      "image/png": "[encoded data removed]",
      "text/plain": [
       "<Figure size 640x480 with 1 Axes>"
      ]
     },
     "metadata": {},
     "output_type": "display_data"
    }
   ],
   "source": [
    "dfH = pd.DataFrame(columns=['x', 'y'])\n",
    "dfH['x'] = fpntsH[:, 0]\n",
    "dfH['y'] = fpntsH[:, 1]\n",
    "plt.plot(dfH['x'], dfH['y'])\n",
    "plt.plot(0,0, 'ro')\n",
    "plt.grid()\n",
    "plt.axis('equal')\n",
    "plt.xlim(-500,200)\n",
    "plt.ylim(-500,200)"
   ]
  },
  {
   "cell_type": "code",
   "execution_count": 376,
   "metadata": {},
   "outputs": [
    {
     "ename": "NameError",
     "evalue": "name 'mb' is not defined",
     "output_type": "error",
     "traceback": [
      "\u001b[1;31m---------------------------------------------------------------------------\u001b[0m",
      "\u001b[1;31mNameError\u001b[0m                                 Traceback (most recent call last)",
      "Cell \u001b[1;32mIn[376], line 1\u001b[0m\n\u001b[1;32m----> 1\u001b[0m mb\n",
      "\u001b[1;31mNameError\u001b[0m: name 'mb' is not defined"
     ]
    }
   ],
   "source": [
    "   mb"
   ]
  },
  {
   "cell_type": "code",
   "execution_count": null,
   "metadata": {},
   "outputs": [],
   "source": []
  }
 ],
 "metadata": {
  "kernelspec": {
   "display_name": "base",
   "language": "python",
   "name": "python3"
  },
  "language_info": {
   "codemirror_mode": {
    "name": "ipython",
    "version": 3
   },
   "file_extension": ".py",
   "mimetype": "text/x-python",
   "name": "python",
   "nbconvert_exporter": "python",
   "pygments_lexer": "ipython3",
   "version": "3.11.7"
  }
 },
 "nbformat": 4,
 "nbformat_minor": 2
}

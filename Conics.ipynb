{
 "cells": [
  {
   "cell_type": "code",
   "execution_count": 1,
   "metadata": {},
   "outputs": [
    {
     "data": {
      "text/plain": [
       "'/Users/tobiro/celesDataAna/celesDataAnalysis'"
      ]
     },
     "execution_count": 1,
     "metadata": {},
     "output_type": "execute_result"
    }
   ],
   "source": [
    "pwd"
   ]
  },
  {
   "cell_type": "code",
   "execution_count": 2,
   "metadata": {},
   "outputs": [],
   "source": [
    "import numpy as np\n",
    "import pandas as pd\n",
    "import matplotlib.pyplot as plt\n",
    "import math\n",
    "from scipy import optimize"
   ]
  },
  {
   "cell_type": "markdown",
   "metadata": {},
   "source": [
    "START"
   ]
  },
  {
   "cell_type": "code",
   "execution_count": 4,
   "metadata": {},
   "outputs": [],
   "source": [
    "# Config Data\n",
    "G = 1.9935608097491742e-38"
   ]
  },
  {
   "cell_type": "markdown",
   "metadata": {},
   "source": [
    "ELLIPSE SETUP"
   ]
  },
  {
   "cell_type": "code",
   "execution_count": 25,
   "metadata": {},
   "outputs": [],
   "source": [
    "# given phase input, return conic parameters\n",
    "def retConicParam(op):\n",
    "    mu = op['M'] * G\n",
    "    r = np.copy(op['r'])\n",
    "    v = np.copy(op['v'])\n",
    "    vlen = np.linalg.norm(v)\n",
    "    a = 1/(2/np.linalg.norm(r) - math.pow(vlen,2)/mu)\n",
    "    TP = 2*math.pi*math.sqrt(math.pow(a,3)/mu)\n",
    "    h = np.linalg.norm(np.cross(r,v))\n",
    "    ecc= math.sqrt(1 - h*h/(a*mu))\n",
    "    print(ecc)\n",
    "    print((a - np.linalg.norm(r))/(a*ecc), ecc)\n",
    "    n = math.sqrt(mu/math.pow(a,3))\n",
    "    E = math.acos((a - np.linalg.norm(r))/(a*ecc))\n",
    "    theta = 2 * math.atan(math.sqrt((1+ecc)/(1-ecc)) * math.tan(E/2))\n",
    "    axisThet = math.atan2(r[1],r[0])\n",
    "    deltaThet = axisThet - theta\n",
    "    M = E - ecc*math.sin(E)\n",
    "    return {'a':a, 'ecc':ecc, 'TP':TP, 'n': n, 'E': E, 'M': M, 'mu': mu, 'theta': theta, 'axisThet': axisThet, 'deltaThet': deltaThet}"
   ]
  },
  {
   "cell_type": "markdown",
   "metadata": {},
   "source": [
    "Newton Optimiser Step"
   ]
  },
  {
   "cell_type": "code",
   "execution_count": 6,
   "metadata": {},
   "outputs": [],
   "source": [
    "def f(M, ecc):\n",
    "    return lambda x: x - ecc * math.sin(x) - M\n",
    "\n",
    "def fPrime(ecc):\n",
    "    return lambda x: 1 - ecc * math.cos(x)"
   ]
  },
  {
   "cell_type": "code",
   "execution_count": 7,
   "metadata": {},
   "outputs": [],
   "source": [
    "def conicPts(n, ecc, M,E, step):\n",
    "    M1 = M + n*step\n",
    "    E1 = optimize.newton(f(M1, ecc), E, fPrime(ecc))\n",
    "    return E1"
   ]
  },
  {
   "cell_type": "code",
   "execution_count": 8,
   "metadata": {},
   "outputs": [],
   "source": [
    "# return position of object given conic parameters and iterated vaue of E\n",
    "def retPos(a, ecc, E, mu, deltaThet):\n",
    "    r = a * (1 - ecc * math.cos(E))\n",
    "    theta = 2*math.atan(math.sqrt((1+ecc)/(1-ecc)) * math.tan(E/2))\n",
    "    return np.array([r*math.cos(theta+deltaThet), r*math.sin(theta+deltaThet)])"
   ]
  },
  {
   "cell_type": "code",
   "execution_count": 9,
   "metadata": {},
   "outputs": [],
   "source": [
    "def retVel(a, ecc, E, mu, deltaThet):\n",
    "    r = a * (1 - ecc * math.cos(E))\n",
    "    theta = 2*math.atan(math.sqrt((1+ecc)/(1-ecc)) * math.tan(E/2))\n",
    "    vr = math.sqrt(mu/(a * (1 - ecc*ecc))) * math.sin(theta) * ecc\n",
    "    vTheta = math.sqrt(mu/(a * (1 - ecc*ecc))) * (1 + ecc * math.cos(theta))\n",
    "    return np.array([vr, vTheta])"
   ]
  },
  {
   "cell_type": "code",
   "execution_count": 10,
   "metadata": {},
   "outputs": [],
   "source": [
    "# returns all the points broken into N pieces\n",
    "def getPts(parameters, r, N):\n",
    "    step = parameters['TP']/N\n",
    "    n = parameters['n']\n",
    "    ecc = parameters['ecc']\n",
    "    M = parameters['M']\n",
    "    E = parameters['E']\n",
    "    a = parameters['a']\n",
    "    deltaThet = parameters['deltaThet']\n",
    "    pnt = [np.copy(r)]\n",
    "    print(pnt)\n",
    "    mu = parameters['mu']\n",
    "    for i in range(math.floor(N)):\n",
    "        # M1 = M + n*step\n",
    "        E1 = conicPts(n, ecc, M, E, step)\n",
    "        r1 = retPos(a, ecc, E1, mu, deltaThet)\n",
    "        E = E1\n",
    "        M = E - ecc*math.sin(E)\n",
    "        pnt = np.append(pnt, [np.copy(r1)], axis=0)\n",
    "    return pnt\n",
    "        \n",
    "\n",
    "    "
   ]
  },
  {
   "cell_type": "markdown",
   "metadata": {},
   "source": [
    "Execution"
   ]
  },
  {
   "cell_type": "code",
   "execution_count": 11,
   "metadata": {},
   "outputs": [
    {
     "name": "stdout",
     "output_type": "stream",
     "text": [
      "248.41870011938153 99.94322637212117\n"
     ]
    },
    {
     "data": {
      "text/plain": [
       "{'a': 248.41870011938153,\n",
       " 'ecc': 0.6258110262847048,\n",
       " 'TP': 58079136.82967624,\n",
       " 'n': 1.0818317299731484e-07,\n",
       " 'E': 0.30095965443102535,\n",
       " 'M': 0.11544619675694642,\n",
       " 'mu': 1.7942059189300603e-07,\n",
       " 'theta': 0.6122414890321367,\n",
       " 'axisThet': 0.1392283126373832,\n",
       " 'deltaThet': -0.4730131763947535}"
      ]
     },
     "execution_count": 11,
     "metadata": {},
     "output_type": "execute_result"
    }
   ],
   "source": [
    "op = {'M': 9e30 + 5.97E24, 'r': np.array([98.97611425091667,13.870014616378286]), 'v': np.array([-0.000019503017485248454, 0.000049878169854632976])}\n",
    "parameters = retConicParam(op)\n",
    "parameters"
   ]
  },
  {
   "cell_type": "markdown",
   "metadata": {},
   "source": [
    "TESTING"
   ]
  },
  {
   "cell_type": "code",
   "execution_count": 26,
   "metadata": {},
   "outputs": [
    {
     "name": "stdout",
     "output_type": "stream",
     "text": [
      "0.6355868510455159\n",
      "-1.0000000000000002 0.6355868510455159\n"
     ]
    },
    {
     "ename": "ValueError",
     "evalue": "math domain error",
     "output_type": "error",
     "traceback": [
      "\u001b[1;31m---------------------------------------------------------------------------\u001b[0m",
      "\u001b[1;31mValueError\u001b[0m                                Traceback (most recent call last)",
      "Cell \u001b[1;32mIn[26], line 2\u001b[0m\n\u001b[0;32m      1\u001b[0m op \u001b[38;5;241m=\u001b[39m {\u001b[38;5;124m'\u001b[39m\u001b[38;5;124mM\u001b[39m\u001b[38;5;124m'\u001b[39m:  \u001b[38;5;241m5.97E24\u001b[39m, \u001b[38;5;124m'\u001b[39m\u001b[38;5;124mr\u001b[39m\u001b[38;5;124m'\u001b[39m: np\u001b[38;5;241m.\u001b[39marray([\u001b[38;5;241m0.06684587122268226\u001b[39m,\u001b[38;5;241m0.0\u001b[39m]), \u001b[38;5;124m'\u001b[39m\u001b[38;5;124mv\u001b[39m\u001b[38;5;124m'\u001b[39m: np\u001b[38;5;241m.\u001b[39marray([\u001b[38;5;241m0\u001b[39m, \u001b[38;5;241m8.054927482333463e-7\u001b[39m])}\n\u001b[1;32m----> 2\u001b[0m parameters \u001b[38;5;241m=\u001b[39m retConicParam(op)\n\u001b[0;32m      3\u001b[0m parameters\n",
      "Cell \u001b[1;32mIn[25], line 14\u001b[0m, in \u001b[0;36mretConicParam\u001b[1;34m(op)\u001b[0m\n\u001b[0;32m     12\u001b[0m \u001b[38;5;28mprint\u001b[39m((a \u001b[38;5;241m-\u001b[39m np\u001b[38;5;241m.\u001b[39mlinalg\u001b[38;5;241m.\u001b[39mnorm(r))\u001b[38;5;241m/\u001b[39m(a\u001b[38;5;241m*\u001b[39mecc), ecc)\n\u001b[0;32m     13\u001b[0m n \u001b[38;5;241m=\u001b[39m math\u001b[38;5;241m.\u001b[39msqrt(mu\u001b[38;5;241m/\u001b[39mmath\u001b[38;5;241m.\u001b[39mpow(a,\u001b[38;5;241m3\u001b[39m))\n\u001b[1;32m---> 14\u001b[0m E \u001b[38;5;241m=\u001b[39m math\u001b[38;5;241m.\u001b[39macos((a \u001b[38;5;241m-\u001b[39m np\u001b[38;5;241m.\u001b[39mlinalg\u001b[38;5;241m.\u001b[39mnorm(r))\u001b[38;5;241m/\u001b[39m(a\u001b[38;5;241m*\u001b[39mecc))\n\u001b[0;32m     15\u001b[0m theta \u001b[38;5;241m=\u001b[39m \u001b[38;5;241m2\u001b[39m \u001b[38;5;241m*\u001b[39m math\u001b[38;5;241m.\u001b[39matan(math\u001b[38;5;241m.\u001b[39msqrt((\u001b[38;5;241m1\u001b[39m\u001b[38;5;241m+\u001b[39mecc)\u001b[38;5;241m/\u001b[39m(\u001b[38;5;241m1\u001b[39m\u001b[38;5;241m-\u001b[39mecc)) \u001b[38;5;241m*\u001b[39m math\u001b[38;5;241m.\u001b[39mtan(E\u001b[38;5;241m/\u001b[39m\u001b[38;5;241m2\u001b[39m))\n\u001b[0;32m     16\u001b[0m axisThet \u001b[38;5;241m=\u001b[39m math\u001b[38;5;241m.\u001b[39matan2(r[\u001b[38;5;241m1\u001b[39m],r[\u001b[38;5;241m0\u001b[39m])\n",
      "\u001b[1;31mValueError\u001b[0m: math domain error"
     ]
    }
   ],
   "source": [
    "op = {'M':  5.97E24, 'r': np.array([0.06684587122268226,0.0]), 'v': np.array([0, 8.054927482333463e-7])}\n",
    "parameters = retConicParam(op)\n",
    "parameters"
   ]
  },
  {
   "cell_type": "code",
   "execution_count": 397,
   "metadata": {},
   "outputs": [
    {
     "data": {
      "text/plain": [
       "array([98.18567615, 18.21694812])"
      ]
     },
     "execution_count": 397,
     "metadata": {},
     "output_type": "execute_result"
    }
   ],
   "source": [
    "pos = retPos(parameters['a'], parameters['ecc'], parameters['E'], parameters['mu'], parameters['deltaThet'])\n",
    "pos"
   ]
  },
  {
   "cell_type": "code",
   "execution_count": 398,
   "metadata": {},
   "outputs": [
    {
     "data": {
      "text/plain": [
       "array([-8.22008382e-06,  4.27728554e-05])"
      ]
     },
     "execution_count": 398,
     "metadata": {},
     "output_type": "execute_result"
    }
   ],
   "source": [
    "op['v']"
   ]
  },
  {
   "cell_type": "code",
   "execution_count": 399,
   "metadata": {},
   "outputs": [
    {
     "data": {
      "text/plain": [
       "array([2.79423496e-07, 4.35546652e-05])"
      ]
     },
     "execution_count": 399,
     "metadata": {},
     "output_type": "execute_result"
    }
   ],
   "source": [
    "vel = retVel(parameters['a'], parameters['ecc'], parameters['E'], parameters['mu'], parameters['deltaThet'])\n",
    "vel\n",
    "np.linalg.norm(vel)\n",
    "vel"
   ]
  },
  {
   "cell_type": "code",
   "execution_count": 400,
   "metadata": {},
   "outputs": [
    {
     "data": {
      "text/plain": [
       "(array([-7.94534898e-06,  4.28238285e-05,  0.00000000e+00]),\n",
       " array([-2.74734838e-07, -5.09731204e-08, -0.00000000e+00]),\n",
       " array([-8.22008382e-06,  4.27728554e-05,  0.00000000e+00]))"
      ]
     },
     "execution_count": 400,
     "metadata": {},
     "output_type": "execute_result"
    }
   ],
   "source": [
    "v1 = np.cross([0,0,1], np.append(pos, 0))\n",
    "v1 = v1/np.linalg.norm(v1)\n",
    "v1 = v1*vel[1]\n",
    "v2 = np.append(pos, 0)\n",
    "v2 = v2/np.linalg.norm(v2)\n",
    "v2 = v2*vel[0] * (-1)\n",
    "v = v1 + v2\n",
    "v\n",
    "theta = 0.4730131763947535\n",
    "rotation_matrix = np.array([[np.cos(theta), -np.sin(theta), 0],\n",
    "                            [np.sin(theta), np.cos(theta), 0],\n",
    "                            [0, 0, 1]])\n",
    "v_rotated = np.dot(rotation_matrix, v)\n",
    "v1,v2,v"
   ]
  },
  {
   "cell_type": "code",
   "execution_count": null,
   "metadata": {},
   "outputs": [],
   "source": []
  },
  {
   "cell_type": "code",
   "execution_count": 391,
   "metadata": {},
   "outputs": [
    {
     "data": {
      "text/plain": [
       "(98.18567615499923,\n",
       " 18.21694812491047,\n",
       " -8.220083819688101e-06,\n",
       " 4.277285536650113e-05)"
      ]
     },
     "execution_count": 391,
     "metadata": {},
     "output_type": "execute_result"
    }
   ],
   "source": [
    "x = 98.42779164608572 + (-0.24211549108649283)\n",
    "y = 17.662667739464933 + 0.5542803854455367\n",
    "vx = -0.00000748156231829769 + (-7.385215013904116e-7)\n",
    "vy =  0.00004169209702151818 + 0.000001080758344982951\n",
    "x,y,vx,vy"
   ]
  },
  {
   "cell_type": "code",
   "execution_count": 394,
   "metadata": {},
   "outputs": [
    {
     "data": {
      "text/plain": [
       "(98.38258389363092,\n",
       " 17.163701939901582,\n",
       " -7.78859035805809e-06,\n",
       " 4.28563056386139e-05)"
      ]
     },
     "execution_count": 394,
     "metadata": {},
     "output_type": "execute_result"
    }
   ],
   "source": [
    "x = 98.60649124593908 + -0.22390735230816108\n",
    "y = 16.63610183199588 + 0.5276001079057034\n",
    "vx = -0.000007046728978065124 + -7.418613799929672e-7\n",
    "vy = 0.000041767790694313174 + 0.000001088514944300731\n",
    "x,y,vx,vy"
   ]
  },
  {
   "cell_type": "code",
   "execution_count": 395,
   "metadata": {},
   "outputs": [
    {
     "name": "stdout",
     "output_type": "stream",
     "text": [
      "105.80227961781175 99.86854098197844\n"
     ]
    },
    {
     "data": {
      "text/plain": [
       "{'a': 105.80227961781175,\n",
       " 'ecc': 0.05652385925593865,\n",
       " 'TP': 16143074.963894663,\n",
       " 'n': 3.8921861672775816e-07,\n",
       " 'E': 0.12493804899708612,\n",
       " 'M': 0.11789442631623331,\n",
       " 'mu': 1.7942059189300603e-07,\n",
       " 'theta': 0.13219081801868193,\n",
       " 'axisThet': 0.17272044487467078,\n",
       " 'deltaThet': 0.04052962685598885}"
      ]
     },
     "execution_count": 395,
     "metadata": {},
     "output_type": "execute_result"
    }
   ],
   "source": [
    "op = {'M': 9e30 + 5.97E24, 'r': np.array([x,y]), 'v': np.array([vx, vy])}\n",
    "parameters = retConicParam(op)\n",
    "parameters"
   ]
  },
  {
   "cell_type": "code",
   "execution_count": 298,
   "metadata": {},
   "outputs": [
    {
     "data": {
      "text/plain": [
       "array([ 81.36822866, -61.62001964,   0.        ])"
      ]
     },
     "execution_count": 298,
     "metadata": {},
     "output_type": "execute_result"
    }
   ],
   "source": [
    "theta = -0.8316024077529348\n",
    "\n",
    "rotation_matrix = np.array([[np.cos(theta), -np.sin(theta), 0],\n",
    "                            [np.sin(theta), np.cos(theta), 0],\n",
    "                            [0, 0, 1]])\n",
    "rotated = np.dot(rotation_matrix, np.append(op['r'],0)/np.linalg.norm(op['r']))\n",
    "rotated*parameters['a']"
   ]
  },
  {
   "cell_type": "code",
   "execution_count": 300,
   "metadata": {},
   "outputs": [
    {
     "name": "stdout",
     "output_type": "stream",
     "text": [
      "105.6372381524162 99.8606943880277\n"
     ]
    },
    {
     "data": {
      "text/plain": [
       "{'a': 105.6372381524162,\n",
       " 'ecc': 0.055085710012333304,\n",
       " 'TP': 16105317.212129349,\n",
       " 'n': 3.9013111163358834e-07,\n",
       " 'E': 0.12101667535863408,\n",
       " 'M': 0.1143666453038734,\n",
       " 'mu': 1.7942059189300603e-07,\n",
       " 'theta': 0.12785895155742882,\n",
       " 'axisThet': 0.1832822830037649,\n",
       " 'deltaThet': 0.05542333144633607}"
      ]
     },
     "execution_count": 300,
     "metadata": {},
     "output_type": "execute_result"
    }
   ],
   "source": [
    "x = 98.18810449599195\n",
    "y = 18.200396125997703\n",
    "vx = -0.000008218772870769958\n",
    "vy = 0.00004274821332120539\n",
    "op = {'M': 9e30 + 5.97E24, 'r': np.array([x,y]), 'v': np.array([vx, vy])}\n",
    "parameters = retConicParam(op)\n",
    "parameters"
   ]
  },
  {
   "cell_type": "code",
   "execution_count": 39,
   "metadata": {},
   "outputs": [
    {
     "data": {
      "text/plain": [
       "5.355557411770996e-05"
      ]
     },
     "execution_count": 39,
     "metadata": {},
     "output_type": "execute_result"
    }
   ],
   "source": [
    "np.linalg.norm(op['v'])"
   ]
  },
  {
   "cell_type": "code",
   "execution_count": 386,
   "metadata": {},
   "outputs": [
    {
     "data": {
      "text/plain": [
       "array([98.18567615, 18.21694812])"
      ]
     },
     "execution_count": 386,
     "metadata": {},
     "output_type": "execute_result"
    }
   ],
   "source": [
    "pos = retPos(parameters['a'], parameters['ecc'], parameters['E'], parameters['mu'], parameters['deltaThet'])\n",
    "pos"
   ]
  },
  {
   "cell_type": "code",
   "execution_count": 387,
   "metadata": {},
   "outputs": [
    {
     "data": {
      "text/plain": [
       "array([9.70346721e-07, 4.28319783e-05])"
      ]
     },
     "execution_count": 387,
     "metadata": {},
     "output_type": "execute_result"
    }
   ],
   "source": [
    "vel = retVel(parameters['a'], parameters['ecc'], parameters['E'], parameters['mu'], parameters['deltaThet'])\n",
    "vel\n",
    "np.linalg.norm(vel)\n",
    "vel\n",
    "# vel = np.array([-1.2392255e-05,5.2102126e-05])"
   ]
  },
  {
   "cell_type": "code",
   "execution_count": 56,
   "metadata": {},
   "outputs": [
    {
     "data": {
      "text/plain": [
       "array([-13.87001462,  98.97611425,   0.        ])"
      ]
     },
     "execution_count": 56,
     "metadata": {},
     "output_type": "execute_result"
    }
   ],
   "source": [
    "np.cross([0,0,1], np.append(pos, 0))"
   ]
  },
  {
   "cell_type": "code",
   "execution_count": 390,
   "metadata": {},
   "outputs": [
    {
     "data": {
      "text/plain": [
       "(array([-7.81351467e-06,  4.21132681e-05,  0.00000000e+00]),\n",
       " array([-9.54064540e-07, -1.77013032e-07, -0.00000000e+00]),\n",
       " array([-8.76757921e-06,  4.19362551e-05,  0.00000000e+00]))"
      ]
     },
     "execution_count": 390,
     "metadata": {},
     "output_type": "execute_result"
    }
   ],
   "source": [
    "v1 = np.cross([0,0,1], np.append(pos, 0))\n",
    "v1 = v1/np.linalg.norm(v1)\n",
    "v1 = v1*vel[1]\n",
    "v2 = np.append(pos, 0)\n",
    "v2 = v2/np.linalg.norm(v2)\n",
    "v2 = v2*vel[0] * (-1)\n",
    "v = v1 + v2\n",
    "v\n",
    "theta = 0.4730131763947535\n",
    "rotation_matrix = np.array([[np.cos(theta), -np.sin(theta), 0],\n",
    "                            [np.sin(theta), np.cos(theta), 0],\n",
    "                            [0, 0, 1]])\n",
    "v_rotated = np.dot(rotation_matrix, v)\n",
    "v1,v2,v"
   ]
  },
  {
   "cell_type": "code",
   "execution_count": 389,
   "metadata": {},
   "outputs": [
    {
     "data": {
      "text/plain": [
       "array([-8.76757921e-06,  4.19362551e-05])"
      ]
     },
     "execution_count": 389,
     "metadata": {},
     "output_type": "execute_result"
    }
   ],
   "source": [
    "op['v']"
   ]
  },
  {
   "cell_type": "markdown",
   "metadata": {},
   "source": [
    "TESTING END"
   ]
  },
  {
   "cell_type": "code",
   "execution_count": 11,
   "metadata": {},
   "outputs": [
    {
     "name": "stdout",
     "output_type": "stream",
     "text": [
      "[array([98.97611425, 13.87001462])]\n"
     ]
    }
   ],
   "source": [
    "fpnts = getPts(parameters, op['r'], 5000)"
   ]
  },
  {
   "cell_type": "code",
   "execution_count": 12,
   "metadata": {},
   "outputs": [
    {
     "data": {
      "text/plain": [
       "(-400.3141001244116, 123.52629079182583, -156.1042617849937, 297.753658927755)"
      ]
     },
     "execution_count": 12,
     "metadata": {},
     "output_type": "execute_result"
    },
    {
     "data": {
      "image/png": "[encoded data removed]",
      "text/plain": [
       "<Figure size 640x480 with 1 Axes>"
      ]
     },
     "metadata": {},
     "output_type": "display_data"
    }
   ],
   "source": [
    "df = pd.DataFrame(columns=['x', 'y'])\n",
    "df['x'] = fpnts[:, 0]\n",
    "df['y'] = fpnts[:, 1]\n",
    "plt.plot(df['x'], df['y']) \n",
    "plt.plot(0,0, 'ro')\n",
    "plt.grid()\n",
    "plt.axis('equal')"
   ]
  },
  {
   "cell_type": "markdown",
   "metadata": {},
   "source": [
    "HYPOERBOLIC SETUP"
   ]
  },
  {
   "cell_type": "code",
   "execution_count": 27,
   "metadata": {},
   "outputs": [],
   "source": [
    "# given phase input, return conic parameters [input, mass, position, velocity]\n",
    "def retConicParamH(op):\n",
    "    mu = op['M'] * G\n",
    "    r = np.copy(op['r'])\n",
    "    v = np.copy(op['v'])\n",
    "    vlen = np.linalg.norm(v)\n",
    "    a = 1/(2/np.linalg.norm(r) - math.pow(vlen,2)/mu)\n",
    "    n = math.sqrt(mu/math.pow(-a,3))\n",
    "    h = np.linalg.norm(np.cross(r,v))\n",
    "    ecc= math.sqrt(1 - h*h/(a*mu))\n",
    "    print(ecc)\n",
    "    print((1 - np.linalg.norm(r)/a)/ecc)\n",
    "    if abs((1 - np.linalg.norm(r)/a)/ecc) < 1:\n",
    "        F = math.acosh(1)\n",
    "    else:\n",
    "        F = math.acosh((1 - np.linalg.norm(r)/a)/ecc)\n",
    "    # F = math.acosh((1 - np.linalg.norm(r)/a)/ecc) \n",
    "    thet = 2*math.atan(math.sqrt((1+ecc)/(ecc-1)) * math.tanh(F/2))\n",
    "    axisThet = math.acos(np.dot(r, [1,0])/np.linalg.norm(r))\n",
    "    deltaThet = axisThet - thet\n",
    "    M = ecc*math.sinh(F) - F \n",
    "    return {'a':a, 'ecc':ecc, 'n':n, 'F': F, 'M': M, 'mu': mu, 'h':h, 'thet':thet, 'axisThet':axisThet, 'deltaThet':deltaThet}"
   ]
  },
  {
   "cell_type": "code",
   "execution_count": 6,
   "metadata": {},
   "outputs": [],
   "source": [
    "def fH(M, ecc):\n",
    "    return lambda x: ecc * math.sinh(x) - x - M\n",
    "\n",
    "def fHPrime(ecc):\n",
    "    return lambda x: ecc * math.cosh(x) - 1"
   ]
  },
  {
   "cell_type": "code",
   "execution_count": 7,
   "metadata": {},
   "outputs": [],
   "source": [
    "def conicPtsH(n, ecc, M,F, step):\n",
    "    M1 = M + n*step\n",
    "    F1 = optimize.newton(fH(M1, ecc), F, fHPrime(ecc))\n",
    "    return F1"
   ]
  },
  {
   "cell_type": "code",
   "execution_count": 8,
   "metadata": {},
   "outputs": [],
   "source": [
    "# return position of object given conic parameters and iterated vaue of E\n",
    "def retPosH(a, ecc, F, mu, delThet):\n",
    "    r = 1 * -a * ( ecc * math.cosh(F) - 1)\n",
    "    theta = 2*math.atan(math.sqrt((1+ecc)/(ecc - 1)) * math.tanh(F/2))\n",
    "    # rotation_matrix = np.array([[np.cos(delThet), -np.sin(delThet)],\n",
    "    #                         [np.sin(delThet), np.cos(delThet)]])\n",
    "    # return np.dot(rotation_matrix, np.array([r*math.cos(theta), r*math.sin(theta)]))\n",
    "    return np.array([r*math.cos(theta+delThet), r*math.sin(theta+delThet)])\n",
    "\n",
    "def retVelH(a, ecc, F, mu, delThet):\n",
    "    r = 1 * -a * ( ecc * math.cosh(F) - 1)\n",
    "    theta = 2*math.atan(math.sqrt((1+ecc)/(ecc - 1)) * math.tanh(F/2))\n",
    "    # vr = math.sqrt(mu/(-a * (ecc*ecc - 1))) * math.sinh(theta) * ecc *(1)\n",
    "    # vTheta = math.sqrt(mu/(-a * (ecc*ecc - 1))) * (1 + ecc * math.cosh(theta)) * (1)\n",
    "    vr = (math.sqrt(mu*(-a))/r) * math.sinh(F) * (1)\n",
    "    vTheta = (math.sqrt(mu*(-a))/r) * math.sqrt(ecc*ecc - 1) * math.cosh(F) *(1)\n",
    "    return np.array([vr, vTheta])"
   ]
  },
  {
   "cell_type": "code",
   "execution_count": 9,
   "metadata": {},
   "outputs": [],
   "source": [
    "def retVelHCatesianConvert(pos, vel):\n",
    "    v1 = np.cross([0,0,1], np.append(pos*(1), 0))\n",
    "    v1 = v1/np.linalg.norm(v1)\n",
    "    v1 = v1*vel[1] * (1)\n",
    "    v2 = np.append(pos*(1), 0)\n",
    "    v2 = v2/np.linalg.norm(v2)\n",
    "    v2 = v2*vel[0]*(-1)\n",
    "    v = v1 + v2\n",
    "    return v\n",
    "\n"
   ]
  },
  {
   "cell_type": "code",
   "execution_count": 10,
   "metadata": {},
   "outputs": [],
   "source": [
    "# returns all the points broken into N pieces\n",
    "def getPtsH(parameters, r, N):\n",
    "    n = parameters['n']\n",
    "    # step = math.pi*2/(n*N) \n",
    "    step = 300\n",
    "    ecc = parameters['ecc']\n",
    "    M = parameters['M']\n",
    "    F = parameters['F']\n",
    "    a = parameters['a']\n",
    "    delThet = parameters['deltaThet']\n",
    "    pnt = [np.copy(r)]\n",
    "    # print(pnt)\n",
    "    mu = parameters['mu']\n",
    "    # print(step)\n",
    "    for i in range(math.floor(N/10)):\n",
    "        F1 = conicPtsH(n, ecc, M, F, step)\n",
    "        r1 = retPosH(a, ecc, F1, mu, delThet)\n",
    "        F = F1\n",
    "        M = ecc*math.sinh(F) - F\n",
    "        pnt = np.append(pnt, [np.copy(r1)], axis=0)\n",
    "    return pnt\n",
    "\n",
    "#reverse points\n",
    "def getPtsHRev(parameters, r, N, pnt):\n",
    "    n = parameters['n']\n",
    "    step = math.pi*2/(n*N) \n",
    "    ecc = parameters['ecc']\n",
    "    M = parameters['M']\n",
    "    F = parameters['F']\n",
    "    a = parameters['a']\n",
    "    delThet = parameters['deltaThet']\n",
    "    pnt = pnt\n",
    "    # print(pnt)\n",
    "    mu = parameters['mu']\n",
    "    # print(step)\n",
    "    for i in range(math.floor(N/10)):\n",
    "        F1 = conicPtsH(n, ecc, M, F, (-1)*step)\n",
    "        r1 = retPosH(a, ecc, F1, mu, delThet)\n",
    "        F = F1\n",
    "        M = ecc*math.sinh(F) - F\n",
    "        pnt = np.append(pnt, [np.copy(r1)], axis=0)\n",
    "    return pnt"
   ]
  },
  {
   "cell_type": "code",
   "execution_count": 11,
   "metadata": {},
   "outputs": [],
   "source": [
    "def getposVelH(parameters, r, vel):\n",
    "    n = parameters['n']\n",
    "    # step = math.pi*2/(n*N) \n",
    "    step = 300\n",
    "    ecc = parameters['ecc']\n",
    "    M = parameters['M']\n",
    "    F = parameters['F']\n",
    "    a = parameters['a']\n",
    "    delThet = parameters['deltaThet']\n",
    "    pnt = [np.copy(r)]\n",
    "    vel = [np.copy(vel)]\n",
    "    # print(pnt)\n",
    "    mu = parameters['mu']\n",
    "    # print(step)\n",
    "    for i in range(math.floor(10)):\n",
    "        F1 = conicPtsH(n, ecc, M, F, step)\n",
    "        r1 = retPosH(a, ecc, F1, mu, delThet)\n",
    "        F = F1\n",
    "        M = ecc*math.sinh(F) - F\n",
    "        vel1 = retVelH(parameters['a'], parameters['ecc'], F1, parameters['mu'], parameters['deltaThet'])\n",
    "        pnt = np.append(pnt, [np.copy(r1)], axis=0)\n",
    "        vel = np.append(vel, [np.copy(vel1)], axis=0)\n",
    "    return pnt,vel"
   ]
  },
  {
   "cell_type": "code",
   "execution_count": 46,
   "metadata": {},
   "outputs": [
    {
     "name": "stdout",
     "output_type": "stream",
     "text": [
      "1.0651414212424912\n",
      "1.0139413649110949\n"
     ]
    },
    {
     "data": {
      "text/plain": [
       "{'a': -754.5649816865721,\n",
       " 'ecc': 1.0651414212424912,\n",
       " 'n': 2.043577107456299e-08,\n",
       " 'F': 0.16678783645375492,\n",
       " 'M': 0.011689605336167003,\n",
       " 'mu': 1.7942047287742567e-07,\n",
       " 'h': 0.004267640572041126,\n",
       " 'thet': 0.8762028687107531,\n",
       " 'axisThet': 1.3724750825381193,\n",
       " 'deltaThet': 0.4962722138273662}"
      ]
     },
     "execution_count": 46,
     "metadata": {},
     "output_type": "execute_result"
    }
   ],
   "source": [
    "# opH = {'M':  5.97E24, 'r': np.array([0.06684587122268226,0.0]), 'v': np.array([0,  0.0000021424101726870353])}\n",
    "# opH = {'M':  5.97E24, 'r': np.array([0.06684587122268226, 0]), 'v': np.array([-0.000003342293561134223,  0.0000014739514604601942])}\n",
    "opH = {'M': 9e30,  'r': np.array([11.89203237965344,59.17526544546777]), 'v': np.array([-0.00006254039044674874, 0.000047661858645905403])}\n",
    "parametersH = retConicParamH(opH)\n",
    "\n",
    "\n",
    "parametersH"
   ]
  },
  {
   "cell_type": "code",
   "execution_count": 47,
   "metadata": {},
   "outputs": [
    {
     "data": {
      "text/plain": [
       "101.508795289899"
      ]
     },
     "execution_count": 47,
     "metadata": {},
     "output_type": "execute_result"
    }
   ],
   "source": [
    "parametersH['a']*(1 - math.pow(parametersH['ecc'],2))"
   ]
  },
  {
   "cell_type": "code",
   "execution_count": 48,
   "metadata": {},
   "outputs": [
    {
     "data": {
      "text/plain": [
       "60.35836706422978"
      ]
     },
     "execution_count": 48,
     "metadata": {},
     "output_type": "execute_result"
    }
   ],
   "source": [
    "np.linalg.norm(opH['r'])"
   ]
  },
  {
   "cell_type": "code",
   "execution_count": 45,
   "metadata": {},
   "outputs": [
    {
     "data": {
      "text/plain": [
       "0.75"
      ]
     },
     "execution_count": 45,
     "metadata": {},
     "output_type": "execute_result"
    }
   ],
   "source": [
    "0.06/0.08"
   ]
  },
  {
   "cell_type": "code",
   "execution_count": 85,
   "metadata": {},
   "outputs": [
    {
     "data": {
      "text/plain": [
       "(array([[0.06684587, 0.        ],\n",
       "        [0.06784737, 0.00044218],\n",
       "        [0.06884655, 0.00088435],\n",
       "        [0.06984346, 0.00132649],\n",
       "        [0.07083818, 0.00176859],\n",
       "        [0.07183077, 0.00221063],\n",
       "        [0.07282128, 0.00265261],\n",
       "        [0.07380978, 0.00309452],\n",
       "        [0.07479632, 0.00353634],\n",
       "        [0.07578095, 0.00397808],\n",
       "        [0.07676372, 0.00441972]]),\n",
       " array([[-3.34229356e-06,  1.47395146e-06],\n",
       "        [ 1.20473320e-06,  3.44084871e-06],\n",
       "        [ 1.20526580e-06,  3.43322428e-06],\n",
       "        [ 1.20573690e-06,  3.42581584e-06],\n",
       "        [ 1.20615103e-06,  3.41861471e-06],\n",
       "        [ 1.20651236e-06,  3.41161260e-06],\n",
       "        [ 1.20682475e-06,  3.40480168e-06],\n",
       "        [ 1.20709175e-06,  3.39817446e-06],\n",
       "        [ 1.20731663e-06,  3.39172386e-06],\n",
       "        [ 1.20750245e-06,  3.38544310e-06],\n",
       "        [ 1.20765200e-06,  3.37932576e-06]]))"
      ]
     },
     "execution_count": 85,
     "metadata": {},
     "output_type": "execute_result"
    }
   ],
   "source": [
    "getposVelH(parametersH, opH['r'], opH['v'])"
   ]
  },
  {
   "cell_type": "code",
   "execution_count": 72,
   "metadata": {},
   "outputs": [
    {
     "name": "stdout",
     "output_type": "stream",
     "text": [
      "[0.06683969 0.00128541]\n",
      "[-5.42416763e-08  2.14164657e-06  0.00000000e+00]\n"
     ]
    }
   ],
   "source": [
    "F1 = conicPtsH(parametersH['n'], parametersH['ecc'], parametersH['M'], parametersH['F'], 300)\n",
    "r1 = retPosH(parametersH['a'], parametersH['ecc'], F1, parametersH['mu'], parametersH['deltaThet'])\n",
    "vel = retVelH(parametersH['a'], parametersH['ecc'], F1, parametersH['mu'], parametersH['deltaThet'])\n",
    "print(r1)\n",
    "vel = retVelHCatesianConvert(r1, vel)\n",
    "print(vel)\n",
    "\n",
    "F = F1\n",
    "M = parametersH['ecc']*math.sinh(F) - F"
   ]
  },
  {
   "cell_type": "code",
   "execution_count": 56,
   "metadata": {},
   "outputs": [
    {
     "data": {
      "text/plain": [
       "array([[0.06684587, 0.        ],\n",
       "       [0.06684467, 0.00064272],\n",
       "       [0.06684108, 0.00128542],\n",
       "       [0.06683509, 0.00192807],\n",
       "       [0.0668267 , 0.00257065],\n",
       "       [0.06681592, 0.00321314]])"
      ]
     },
     "execution_count": 56,
     "metadata": {},
     "output_type": "execute_result"
    }
   ],
   "source": [
    "out = getPtsH(parametersH, opH['r'], 50)\n",
    "out"
   ]
  },
  {
   "cell_type": "code",
   "execution_count": null,
   "metadata": {},
   "outputs": [],
   "source": [
    "out = retVelH()"
   ]
  },
  {
   "cell_type": "code",
   "execution_count": null,
   "metadata": {},
   "outputs": [],
   "source": []
  },
  {
   "cell_type": "markdown",
   "metadata": {},
   "source": [
    "TESTINg"
   ]
  },
  {
   "cell_type": "code",
   "execution_count": 22,
   "metadata": {},
   "outputs": [
    {
     "data": {
      "text/plain": [
       "array([-6.25403904e-05,  4.76618586e-05])"
      ]
     },
     "execution_count": 22,
     "metadata": {},
     "output_type": "execute_result"
    }
   ],
   "source": [
    "opH['v']"
   ]
  },
  {
   "cell_type": "code",
   "execution_count": 30,
   "metadata": {},
   "outputs": [
    {
     "data": {
      "text/plain": [
       "array([0.06684587, 0.        ])"
      ]
     },
     "execution_count": 30,
     "metadata": {},
     "output_type": "execute_result"
    }
   ],
   "source": [
    "posH = retPosH(parametersH['a'], parametersH['ecc'], parametersH['F'], parametersH['mu'], parametersH['deltaThet'])\n",
    "posH"
   ]
  },
  {
   "cell_type": "code",
   "execution_count": 31,
   "metadata": {},
   "outputs": [
    {
     "data": {
      "text/plain": [
       "array([1.2041342e-06, 3.4486983e-06])"
      ]
     },
     "execution_count": 31,
     "metadata": {},
     "output_type": "execute_result"
    }
   ],
   "source": [
    "\n",
    "vel = retVelH(parametersH['a'], parametersH['ecc'], parametersH['F'], parametersH['mu'], parametersH['deltaThet'])\n",
    "vel\n",
    "# np.linalg.norm(vel)\n",
    "# vel  = np.array([-7.50356232e-06, 8.74471392e-05])\n",
    "# vel\n",
    "# vel = np.array([-3.23015155e-05, 7.16907616e-05])\n"
   ]
  },
  {
   "cell_type": "code",
   "execution_count": 32,
   "metadata": {},
   "outputs": [
    {
     "name": "stdout",
     "output_type": "stream",
     "text": [
      "[0.         0.06684587 0.        ]\n",
      "[0. 1. 0.]\n",
      "[1. 0. 0.]\n"
     ]
    },
    {
     "data": {
      "text/plain": [
       "(array([0.0000000e+00, 3.4486983e-06, 0.0000000e+00]),\n",
       " array([-1.2041342e-06, -0.0000000e+00, -0.0000000e+00]),\n",
       " array([-1.2041342e-06,  3.4486983e-06,  0.0000000e+00]),\n",
       " array([3.34229356e-06, 1.47395146e-06, 0.00000000e+00]),\n",
       " -1.4913748150891686)"
      ]
     },
     "execution_count": 32,
     "metadata": {},
     "output_type": "execute_result"
    }
   ],
   "source": [
    "v1 = np.cross([0,0,1], np.append(posH*(1), 0))\n",
    "print(v1)\n",
    "v1 = v1/np.linalg.norm(v1)\n",
    "print(v1)\n",
    "v1 = v1*vel[1] * (1)\n",
    "v2 = np.append(posH*(1), 0) \n",
    "v2 = v2/np.linalg.norm(v2)\n",
    "print(v2)\n",
    "v2 = v2*vel[0]*(-1)\n",
    "v = v1 + v2\n",
    "v\n",
    "theta = parametersH['thet']*(-1)\n",
    "rotation_matrix = np.array([[np.cos(theta), -np.sin(theta), 0],\n",
    "                            [np.sin(theta), np.cos(theta), 0],\n",
    "                            [0, 0, 1]])\n",
    "v_rotated = np.dot(rotation_matrix, v)\n",
    "v1,v2, v, v_rotated, theta\n"
   ]
  },
  {
   "cell_type": "code",
   "execution_count": null,
   "metadata": {},
   "outputs": [],
   "source": []
  },
  {
   "cell_type": "code",
   "execution_count": 43,
   "metadata": {},
   "outputs": [
    {
     "data": {
      "text/plain": [
       "array([0.00000000e+00, 2.14241017e-06])"
      ]
     },
     "execution_count": 43,
     "metadata": {},
     "output_type": "execute_result"
    }
   ],
   "source": [
    "opH['v']\n",
    "# np.linalg.norm(opH['v'])"
   ]
  },
  {
   "cell_type": "code",
   "execution_count": 359,
   "metadata": {},
   "outputs": [
    {
     "data": {
      "text/plain": [
       "{'a': -191.3103361425597,\n",
       " 'ecc': 1.5764528521572183,\n",
       " 'n': 1.6007678242116555e-07,\n",
       " 'F': 0.4403682702602054,\n",
       " 'M': 0.2765077849770554,\n",
       " 'mu': 1.7942047287742567e-07,\n",
       " 'h': 0.00714,\n",
       " 'thet': 0.859164872058229,\n",
       " 'axisThet': 0.0,\n",
       " 'deltaThet': -0.859164872058229}"
      ]
     },
     "execution_count": 359,
     "metadata": {},
     "output_type": "execute_result"
    }
   ],
   "source": [
    "# opH = {'M': 9e30, 'r': np.array([140,0]), 'v': np.array([0, 0.000051])}\n",
    "opH = {'M': 9e30,  'r': np.array([140,0]), 'v': np.array([-0.00003, 0.000051])}\n",
    "parametersH = retConicParamH(opH)\n",
    "parametersH"
   ]
  },
  {
   "cell_type": "code",
   "execution_count": 28,
   "metadata": {},
   "outputs": [
    {
     "data": {
      "text/plain": [
       "array([11.89203238, 59.17526545])"
      ]
     },
     "execution_count": 28,
     "metadata": {},
     "output_type": "execute_result"
    }
   ],
   "source": [
    "posH = retPosH(parametersH['a'], parametersH['ecc'], parametersH['F'], parametersH['mu'], parametersH['deltaThet'])\n",
    "posH"
   ]
  },
  {
   "cell_type": "code",
   "execution_count": 361,
   "metadata": {},
   "outputs": [
    {
     "data": {
      "text/plain": [
       "5.9169248769948064e-05"
      ]
     },
     "execution_count": 361,
     "metadata": {},
     "output_type": "execute_result"
    }
   ],
   "source": [
    "np.linalg.norm(opH['v'])"
   ]
  },
  {
   "cell_type": "code",
   "execution_count": 19,
   "metadata": {},
   "outputs": [
    {
     "data": {
      "text/plain": [
       "array([1.2041342e-06, 3.4486983e-06])"
      ]
     },
     "execution_count": 19,
     "metadata": {},
     "output_type": "execute_result"
    }
   ],
   "source": [
    "vel = retVelH(parametersH['a'], parametersH['ecc'], parametersH['F'], parametersH['mu'], parametersH['deltaThet'])\n",
    "vel\n",
    "# np.linalg.norm(vel)"
   ]
  },
  {
   "cell_type": "code",
   "execution_count": 20,
   "metadata": {},
   "outputs": [
    {
     "name": "stdout",
     "output_type": "stream",
     "text": [
      "[0.         0.06684587 0.        ]\n",
      "[0. 1. 0.]\n",
      "[1. 0. 0.]\n"
     ]
    },
    {
     "data": {
      "text/plain": [
       "(array([0.0000000e+00, 3.4486983e-06, 0.0000000e+00]),\n",
       " array([-1.2041342e-06, -0.0000000e+00, -0.0000000e+00]),\n",
       " array([-1.2041342e-06,  3.4486983e-06,  0.0000000e+00]),\n",
       " array([3.34229356e-06, 1.47395146e-06, 0.00000000e+00]))"
      ]
     },
     "execution_count": 20,
     "metadata": {},
     "output_type": "execute_result"
    }
   ],
   "source": [
    "\n",
    "v1 = np.cross([0,0,1], np.append(posH*(1), 0))\n",
    "print(v1)\n",
    "v1 = v1/np.linalg.norm(v1)\n",
    "print(v1)\n",
    "v1 = v1*vel[1] * (1)\n",
    "v2 = np.append(posH*(1), 0)\n",
    "v2 = v2/np.linalg.norm(v2)\n",
    "print(v2)\n",
    "v2 = v2*vel[0]*(-1)\n",
    "v = v1 + v2\n",
    "v\n",
    "theta = parametersH['deltaThet']\n",
    "rotation_matrix = np.array([[np.cos(theta), -np.sin(theta), 0],\n",
    "                            [np.sin(theta), np.cos(theta), 0],\n",
    "                            [0, 0, 1]])\n",
    "v_rotated = np.dot(rotation_matrix, v)\n",
    "v1,v2, v, v_rotated"
   ]
  },
  {
   "cell_type": "code",
   "execution_count": 353,
   "metadata": {},
   "outputs": [
    {
     "data": {
      "text/plain": [
       "5.9169248769948064e-05"
      ]
     },
     "execution_count": 353,
     "metadata": {},
     "output_type": "execute_result"
    }
   ],
   "source": [
    "np.linalg.norm(opH['v'])"
   ]
  },
  {
   "cell_type": "code",
   "execution_count": 354,
   "metadata": {},
   "outputs": [
    {
     "data": {
      "text/plain": [
       "array([-3.0e-05,  5.1e-05])"
      ]
     },
     "execution_count": 354,
     "metadata": {},
     "output_type": "execute_result"
    }
   ],
   "source": [
    "opH['v']"
   ]
  },
  {
   "cell_type": "code",
   "execution_count": 33,
   "metadata": {},
   "outputs": [],
   "source": [
    "fpntsH = getPtsH(parametersH, opH['r'], 5000)\n",
    "fpntsH = getPtsHRev(parametersH, opH['r'], 5000, fpntsH)"
   ]
  },
  {
   "cell_type": "code",
   "execution_count": 34,
   "metadata": {},
   "outputs": [
    {
     "data": {
      "text/plain": [
       "array([[0.06684587, 0.        ],\n",
       "       [0.06784737, 0.00044218],\n",
       "       [0.06884655, 0.00088435],\n",
       "       [0.06984346, 0.00132649],\n",
       "       [0.07083818, 0.00176859],\n",
       "       [0.07183077, 0.00221063],\n",
       "       [0.07282128, 0.00265261],\n",
       "       [0.07380978, 0.00309452],\n",
       "       [0.07479632, 0.00353634],\n",
       "       [0.07578095, 0.00397808]])"
      ]
     },
     "execution_count": 34,
     "metadata": {},
     "output_type": "execute_result"
    }
   ],
   "source": [
    "fpntsH[:10]"
   ]
  },
  {
   "cell_type": "code",
   "execution_count": null,
   "metadata": {},
   "outputs": [],
   "source": []
  },
  {
   "cell_type": "code",
   "execution_count": 35,
   "metadata": {},
   "outputs": [
    {
     "data": {
      "image/png": "[encoded data removed]",
      "text/plain": [
       "<Figure size 640x480 with 1 Axes>"
      ]
     },
     "metadata": {},
     "output_type": "display_data"
    }
   ],
   "source": [
    "dfH = pd.DataFrame(columns=['x', 'y'])\n",
    "dfH['x'] = fpntsH[:, 0]\n",
    "dfH['y'] = fpntsH[:, 1]\n",
    "plt.plot(dfH['x'], dfH['y'])\n",
    "plt.plot(0,0, 'ro')\n",
    "# plt.xlim(-500,500)\n",
    "# plt.ylim(-500,500)\n",
    "plt.grid()\n",
    "# plt.axis('equal')\n"
   ]
  },
  {
   "cell_type": "code",
   "execution_count": null,
   "metadata": {},
   "outputs": [],
   "source": []
  }
 ],
 "metadata": {
  "kernelspec": {
   "display_name": "base",
   "language": "python",
   "name": "python3"
  },
  "language_info": {
   "codemirror_mode": {
    "name": "ipython",
    "version": 3
   },
   "file_extension": ".py",
   "mimetype": "text/x-python",
   "name": "python",
   "nbconvert_exporter": "python",
   "pygments_lexer": "ipython3",
   "version": "3.11.7"
  }
 },
 "nbformat": 4,
 "nbformat_minor": 2
}

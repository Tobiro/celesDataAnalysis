{
 "cells": [
  {
   "cell_type": "code",
   "execution_count": 2,
   "metadata": {},
   "outputs": [
    {
     "data": {
      "text/plain": [
       "'c:\\\\Users\\\\Meeth\\\\CelesDataAnal'"
      ]
     },
     "execution_count": 2,
     "metadata": {},
     "output_type": "execute_result"
    }
   ],
   "source": [
    "pwd"
   ]
  },
  {
   "cell_type": "code",
   "execution_count": 22,
   "metadata": {},
   "outputs": [],
   "source": [
    "import numpy as np\n",
    "import pandas as pd\n",
    "import matplotlib.pyplot as plt\n",
    "import math\n",
    "from scipy import optimize"
   ]
  },
  {
   "cell_type": "markdown",
   "metadata": {},
   "source": [
    "START"
   ]
  },
  {
   "cell_type": "code",
   "execution_count": 4,
   "metadata": {},
   "outputs": [],
   "source": [
    "# Config Data\n",
    "G = 1.9935608097491742e-38"
   ]
  },
  {
   "cell_type": "markdown",
   "metadata": {},
   "source": [
    "ELLIPSE SETUP"
   ]
  },
  {
   "cell_type": "code",
   "execution_count": 5,
   "metadata": {},
   "outputs": [],
   "source": [
    "# given phase input, return conic parameters\n",
    "def retConicParam(op):\n",
    "    mu = op['M'] * G\n",
    "    r = np.copy(op['r'])\n",
    "    v = np.copy(op['v'])\n",
    "    vlen = np.linalg.norm(v)\n",
    "    a = 1/(2/np.linalg.norm(r) - math.pow(vlen,2)/mu)\n",
    "    print(a, np.linalg.norm(r))\n",
    "    TP = 2*math.pi*math.sqrt(math.pow(a,3)/mu)\n",
    "    h = np.linalg.norm(np.cross(r,v))\n",
    "    ecc= math.sqrt(1 - h*h/(a*mu))\n",
    "    n = math.sqrt(mu/math.pow(a,3))\n",
    "    E = math.acos((a - np.linalg.norm(r))/(a*ecc))\n",
    "    M = E - ecc*math.sin(E)\n",
    "    return {'a':a, 'ecc':ecc, 'TP':TP, 'n': n, 'E': E, 'M': M, 'mu': mu}"
   ]
  },
  {
   "cell_type": "markdown",
   "metadata": {},
   "source": [
    "Newton Optimiser Step"
   ]
  },
  {
   "cell_type": "code",
   "execution_count": 6,
   "metadata": {},
   "outputs": [],
   "source": [
    "def f(M, ecc):\n",
    "    return lambda x: x - ecc * math.sin(x) - M\n",
    "\n",
    "def fPrime(ecc):\n",
    "    return lambda x: 1 - ecc * math.cos(x)"
   ]
  },
  {
   "cell_type": "code",
   "execution_count": 7,
   "metadata": {},
   "outputs": [],
   "source": [
    "def conicPts(n, ecc, M,E, step):\n",
    "    M1 = M + n*step\n",
    "    E1 = optimize.newton(f(M1, ecc), E, fPrime(ecc))\n",
    "    return E1"
   ]
  },
  {
   "cell_type": "code",
   "execution_count": 8,
   "metadata": {},
   "outputs": [],
   "source": [
    "# return position of object given conic parameters and iterated vaue of E\n",
    "def retPos(a, ecc, E, mu):\n",
    "    r = a * (1 - ecc * math.cos(E))\n",
    "    theta = 2*math.atan(math.sqrt((1+ecc)/(1-ecc)) * math.tan(E/2))\n",
    "    return np.array([r*math.cos(theta), r*math.sin(theta)])"
   ]
  },
  {
   "cell_type": "code",
   "execution_count": 9,
   "metadata": {},
   "outputs": [],
   "source": [
    "# returns all the points broken into N pieces\n",
    "def getPts(parameters, r, N):\n",
    "    step = parameters['TP']/N\n",
    "    n = parameters['n']\n",
    "    ecc = parameters['ecc']\n",
    "    M = parameters['M']\n",
    "    E = parameters['E']\n",
    "    a = parameters['a']\n",
    "    pnt = [np.copy(r)]\n",
    "    print(pnt)\n",
    "    mu = parameters['mu']\n",
    "    for i in range(math.floor(N*3/4)):\n",
    "        # M1 = M + n*step\n",
    "        E1 = conicPts(n, ecc, M, E, step)\n",
    "        r1 = retPos(a, ecc, E1, mu)\n",
    "        E = E1\n",
    "        M = E - ecc*math.sin(E)\n",
    "        pnt = np.append(pnt, [np.copy(r1)], axis=0)\n",
    "    return pnt\n",
    "        \n",
    "\n",
    "    "
   ]
  },
  {
   "cell_type": "markdown",
   "metadata": {},
   "source": [
    "Execution"
   ]
  },
  {
   "cell_type": "code",
   "execution_count": 23,
   "metadata": {},
   "outputs": [
    {
     "name": "stdout",
     "output_type": "stream",
     "text": [
      "199.9999999999999 142.67981065246366\n"
     ]
    },
    {
     "data": {
      "text/plain": [
       "{'a': 199.9999999999999,\n",
       " 'ecc': 0.29999999999999993,\n",
       " 'TP': 41955496.35407392,\n",
       " 'n': 1.4975833569347065e-07,\n",
       " 'E': 0.30000000000000465,\n",
       " 'M': 0.21134393800160145,\n",
       " 'mu': 1.7942047287742567e-07}"
      ]
     },
     "execution_count": 23,
     "metadata": {},
     "output_type": "execute_result"
    }
   ],
   "source": [
    "op = {'M': 9e30, 'r': np.array([131.06729782512122,56.38166198901782]), 'v': np.array([-0.000012407253447004347, 0.0000382618120571045])}\n",
    "parameters = retConicParam(op)\n",
    "parameters"
   ]
  },
  {
   "cell_type": "code",
   "execution_count": 11,
   "metadata": {},
   "outputs": [
    {
     "name": "stdout",
     "output_type": "stream",
     "text": [
      "[array([131.06729783,  56.38166199])]\n"
     ]
    }
   ],
   "source": [
    "fpnts = getPts(parameters, op['r'], 5000)"
   ]
  },
  {
   "cell_type": "code",
   "execution_count": null,
   "metadata": {},
   "outputs": [],
   "source": [
    "\n"
   ]
  },
  {
   "cell_type": "code",
   "execution_count": 12,
   "metadata": {},
   "outputs": [
    {
     "data": {
      "text/plain": [
       "[<matplotlib.lines.Line2D at 0x178740dc990>]"
      ]
     },
     "execution_count": 12,
     "metadata": {},
     "output_type": "execute_result"
    },
    {
     "data": {
      "image/png": "[encoded data removed]",
      "text/plain": [
       "<Figure size 640x480 with 1 Axes>"
      ]
     },
     "metadata": {},
     "output_type": "display_data"
    }
   ],
   "source": [
    "df = pd.DataFrame(columns=['x', 'y'])\n",
    "df['x'] = fpnts[:, 0]\n",
    "df['y'] = fpnts[:, 1]\n",
    "plt.plot(df['x'], df['y']) "
   ]
  },
  {
   "cell_type": "markdown",
   "metadata": {},
   "source": []
  },
  {
   "cell_type": "code",
   "execution_count": 13,
   "metadata": {},
   "outputs": [],
   "source": [
    "# given phase input, return conic parameters\n",
    "def retConicParamH(op):\n",
    "    mu = op['M'] * G\n",
    "    r = np.copy(op['r'])\n",
    "    v = np.copy(op['v'])\n",
    "    vlen = np.linalg.norm(v)\n",
    "    a = 1/(2/np.linalg.norm(r) - math.pow(vlen,2)/mu)\n",
    "    n = math.sqrt(mu/math.pow(-a,3))\n",
    "    h = np.linalg.norm(np.cross(r,v))\n",
    "    ecc= math.sqrt(1 - h*h/(a*mu))\n",
    "    F = math.acosh((1 - np.linalg.norm(r)/a)/ecc) \n",
    "    M = ecc*math.sinh(F) - F \n",
    "    return {'a':a, 'ecc':ecc, 'n':n, 'F': F, 'M': M, 'mu': mu}"
   ]
  },
  {
   "cell_type": "code",
   "execution_count": 14,
   "metadata": {},
   "outputs": [],
   "source": [
    "def fH(M, ecc):\n",
    "    return lambda x: ecc * math.sinh(x) - x - M\n",
    "\n",
    "def fHPrime(ecc):\n",
    "    return lambda x: ecc * math.cosh(x) - 1"
   ]
  },
  {
   "cell_type": "code",
   "execution_count": 15,
   "metadata": {},
   "outputs": [],
   "source": [
    "def conicPtsH(n, ecc, M,F, step):\n",
    "    M1 = M + n*step\n",
    "    F1 = optimize.newton(fH(M1, ecc), F, fHPrime(ecc))\n",
    "    return F1"
   ]
  },
  {
   "cell_type": "code",
   "execution_count": 78,
   "metadata": {},
   "outputs": [],
   "source": [
    "# return position of object given conic parameters and iterated vaue of E\n",
    "def retPosH(a, ecc, F, mu):\n",
    "    r = -1 * a * ( ecc * math.cosh(F) - 1)\n",
    "    theta = 2*math.atan(math.sqrt((1+ecc)/(ecc - 1)) * math.tan(F/2))\n",
    "    print(r, theta)\n",
    "    return np.array([r*math.cos(theta), r*math.sin(theta)])"
   ]
  },
  {
   "cell_type": "code",
   "execution_count": 79,
   "metadata": {},
   "outputs": [],
   "source": [
    "# returns all the points broken into N pieces\n",
    "def getPtsH(parameters, r, N):\n",
    "    n = parameters['n']\n",
    "    step = math.pi*2/(n*N) \n",
    "    ecc = parameters['ecc']\n",
    "    M = parameters['M']\n",
    "    F = parameters['F']\n",
    "    a = parameters['a']\n",
    "    pnt = [np.copy(r)]\n",
    "    print(pnt)\n",
    "    mu = parameters['mu']\n",
    "    print(step)\n",
    "    for i in range(math.floor(10)):\n",
    "        F1 = conicPtsH(n, ecc, M, F, step)\n",
    "        r1 = retPosH(a, ecc, F1, mu)\n",
    "        # if(i < 4):\n",
    "        #     print(r1, M)\n",
    "        F = F1\n",
    "        M = ecc*math.sinh(F) - F\n",
    "        pnt = np.append(pnt, [np.copy(r1)], axis=0)\n",
    "        # if i < 5:\n",
    "        #     print(pnt,i)\n",
    "    return pnt"
   ]
  },
  {
   "cell_type": "code",
   "execution_count": 80,
   "metadata": {},
   "outputs": [
    {
     "data": {
      "text/plain": [
       "{'a': -78.05619790960063,\n",
       " 'ecc': 2.7648461856265287,\n",
       " 'n': 6.142213508217152e-07,\n",
       " 'F': 0.21318282961442647,\n",
       " 'M': 0.380709596290588,\n",
       " 'mu': 1.7942047287742567e-07}"
      ]
     },
     "execution_count": 80,
     "metadata": {},
     "output_type": "execute_result"
    }
   ],
   "source": [
    "# opH = {'M': 9e30, 'r': np.array([140,0]), 'v': np.array([0, 0.000051])}\n",
    "opH = {'M': 9e30, 'r': np.array([131.06729782512122,56.38166198901782]), 'v': np.array([-0.000012407253447004347, 0.0000682618120571045])}\n",
    "parametersH = retConicParamH(opH)\n",
    "parametersH"
   ]
  },
  {
   "cell_type": "code",
   "execution_count": 76,
   "metadata": {},
   "outputs": [
    {
     "data": {
      "text/plain": [
       "142.67981065246366"
      ]
     },
     "execution_count": 76,
     "metadata": {},
     "output_type": "execute_result"
    }
   ],
   "source": [
    "-1 * -78.05619790960063 * ( 2.7648461856265287 * math.cosh(0.21318282961442647) - 1)"
   ]
  },
  {
   "cell_type": "code",
   "execution_count": 77,
   "metadata": {},
   "outputs": [
    {
     "data": {
      "text/plain": [
       "142.67981065246366"
      ]
     },
     "execution_count": 77,
     "metadata": {},
     "output_type": "execute_result"
    }
   ],
   "source": [
    "np.linalg.norm([131.06729782512122,56.38166198901782])"
   ]
  },
  {
   "cell_type": "code",
   "execution_count": 82,
   "metadata": {},
   "outputs": [
    {
     "data": {
      "text/plain": [
       "0.3100437398525267"
      ]
     },
     "execution_count": 82,
     "metadata": {},
     "output_type": "execute_result"
    }
   ],
   "source": [
    "2*math.atan(math.sqrt((1+2.7648461856265287)/(2.7648461856265287 - 1)) * math.tan(0.21318282961442647/2))"
   ]
  },
  {
   "cell_type": "code",
   "execution_count": 87,
   "metadata": {},
   "outputs": [
    {
     "data": {
      "text/plain": [
       "135.87686949122875"
      ]
     },
     "execution_count": 87,
     "metadata": {},
     "output_type": "execute_result"
    }
   ],
   "source": [
    "142.67981065246366 * math.cos(0.3100437398525267)"
   ]
  },
  {
   "cell_type": "code",
   "execution_count": 81,
   "metadata": {},
   "outputs": [
    {
     "name": "stdout",
     "output_type": "stream",
     "text": [
      "[array([131.06729783,  56.38166199])]\n",
      "2045.9026045818302\n",
      "142.71172835121803 0.3110349676102004\n",
      "142.74374318181083 0.3120258924985217\n",
      "142.7758550706354 0.31301651375501266\n",
      "142.80806394393232 0.31400683061921014\n",
      "142.84036972778935 0.3149968423326681\n",
      "142.87277234814283 0.31598654813896\n",
      "142.90527173077817 0.316975947283681\n",
      "142.93786780133038 0.3179650390144504\n",
      "142.97056048528512 0.3189538225809135\n",
      "143.0033497079792 0.31994229723474404\n"
     ]
    }
   ],
   "source": [
    "fpntsH = getPtsH(parametersH, opH['r'], 5000)"
   ]
  },
  {
   "cell_type": "code",
   "execution_count": 73,
   "metadata": {},
   "outputs": [
    {
     "data": {
      "text/plain": [
       "1004.9398032407407"
      ]
     },
     "execution_count": 73,
     "metadata": {},
     "output_type": "execute_result"
    }
   ],
   "source": [
    "86826799/(3600*24)"
   ]
  },
  {
   "cell_type": "code",
   "execution_count": 74,
   "metadata": {},
   "outputs": [
    {
     "data": {
      "text/plain": [
       "[<matplotlib.lines.Line2D at 0x17870b67a90>]"
      ]
     },
     "execution_count": 74,
     "metadata": {},
     "output_type": "execute_result"
    },
    {
     "data": {
      "image/png": "[encoded data removed]",
      "text/plain": [
       "<Figure size 640x480 with 1 Axes>"
      ]
     },
     "metadata": {},
     "output_type": "display_data"
    }
   ],
   "source": [
    "dfH = pd.DataFrame(columns=['x', 'y'])\n",
    "dfH['x'] = fpntsH[:, 0]\n",
    "dfH['y'] = fpntsH[:, 1]\n",
    "plt.plot(dfH['x'], dfH['y'])"
   ]
  },
  {
   "cell_type": "code",
   "execution_count": 85,
   "metadata": {},
   "outputs": [
    {
     "ename": "NameError",
     "evalue": "name 'mb' is not defined",
     "output_type": "error",
     "traceback": [
      "\u001b[1;31m---------------------------------------------------------------------------\u001b[0m",
      "\u001b[1;31mNameError\u001b[0m                                 Traceback (most recent call last)",
      "Cell \u001b[1;32mIn[85], line 1\u001b[0m\n\u001b[1;32m----> 1\u001b[0m mb\n",
      "\u001b[1;31mNameError\u001b[0m: name 'mb' is not defined"
     ]
    }
   ],
   "source": [
    "   mb"
   ]
  },
  {
   "cell_type": "code",
   "execution_count": null,
   "metadata": {},
   "outputs": [],
   "source": []
  }
 ],
 "metadata": {
  "kernelspec": {
   "display_name": "base",
   "language": "python",
   "name": "python3"
  },
  "language_info": {
   "codemirror_mode": {
    "name": "ipython",
    "version": 3
   },
   "file_extension": ".py",
   "mimetype": "text/x-python",
   "name": "python",
   "nbconvert_exporter": "python",
   "pygments_lexer": "ipython3",
   "version": "3.11.7"
  }
 },
 "nbformat": 4,
 "nbformat_minor": 2
}
